{
 "cells": [
  {
   "cell_type": "markdown",
   "id": "b9e47329",
   "metadata": {},
   "source": [
    "# 03 - Evaluate\n",
    "Compute MAE/RMSE/MAPE/R² and generate parity plots."
   ]
  },
  {
   "cell_type": "code",
   "execution_count": null,
   "id": "34e95bb1",
   "metadata": {},
   "outputs": [],
   "source": [
    "from src.aspf.evaluate import evaluate\n",
    "# metrics = evaluate(y_true, y_pred)\n",
    "# metrics"
   ]
  }
 ],
 "metadata": {},
 "nbformat": 4,
 "nbformat_minor": 5
}
