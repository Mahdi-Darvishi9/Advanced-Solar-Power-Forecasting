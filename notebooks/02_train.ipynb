{
 "cells": [
  {
   "cell_type": "markdown",
   "id": "bd9deddd",
   "metadata": {},
   "source": [
    "# 02 - Train\n",
    "Feature engineering and training XGBoost + LightGBM, then stack."
   ]
  },
  {
   "cell_type": "code",
   "execution_count": null,
   "id": "d1fa03d6",
   "metadata": {},
   "outputs": [],
   "source": [
    "from src.aspf.data import basic_feature_engineering\n",
    "from src.aspf.model import StackedEnsemble\n",
    "from sklearn.model_selection import train_test_split\n",
    "from sklearn.metrics import r2_score\n",
    "import xgboost as xgb\n",
    "import lightgbm as lgb\n",
    "import pandas as pd\n",
    "\n",
    "# df = pd.read_csv('data/processed/train.csv')\n",
    "# X, y = df.drop(columns=['target']), df['target']\n",
    "# X = basic_feature_engineering(X)\n",
    "# Xtr, Xte, ytr, yte = train_test_split(X, y, test_size=0.2, random_state=42)\n",
    "# model = StackedEnsemble(base_models=(xgb.XGBRegressor(), lgb.LGBMRegressor()))\n",
    "# model.fit(Xtr, ytr)\n",
    "# pred = model.predict(Xte)\n",
    "# print('R2:', r2_score(yte, pred))"
   ]
  }
 ],
 "metadata": {},
 "nbformat": 4,
 "nbformat_minor": 5
}
