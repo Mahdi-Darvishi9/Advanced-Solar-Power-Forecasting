{
 "cells": [
  {
   "cell_type": "markdown",
   "id": "f80dbbcf",
   "metadata": {},
   "source": [
    "# 01 - EDA\n",
    "Load, inspect, and visualize data; confirm target distribution."
   ]
  },
  {
   "cell_type": "code",
   "execution_count": null,
   "id": "f0113a12",
   "metadata": {},
   "outputs": [],
   "source": [
    "import pandas as pd\n",
    "import matplotlib.pyplot as plt\n",
    "\n",
    "# df = pd.read_csv('data/raw/sample.csv')\n",
    "# df.head()"
   ]
  }
 ],
 "metadata": {},
 "nbformat": 4,
 "nbformat_minor": 5
}
